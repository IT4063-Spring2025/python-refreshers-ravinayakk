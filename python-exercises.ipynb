{
 "cells": [
  {
   "cell_type": "markdown",
   "metadata": {},
   "source": [
    "# Python Exercises\n",
    "\n",
    "If you're already here, chances are you can ignore this statement: Please make sure you follow the installation and setup guides on the assignment `README.md` file.\n",
    "\n",
    "**Objectives**\n",
    "- Refresher on Python and some common libraries such as `numpy`.\n",
    "- Refresher on Jupyter Notebooks.\n",
    "- Introduction/Re-introduction to using git and GitHub.\n",
    "\n",
    "\n",
    "**Emojis Legend**\n",
    "- 👨🏻‍💻 - Instructions; Tells you about something specific you need to do.\n",
    "- 🦉 - Tips; Will tell you about some hints, tips and best practices\n",
    "- 📜 - Documentations; provides links to documentations\n",
    "- 🚩 - Checkpoint; marks a good spot for you to commit your code to git\n",
    "- 🕵️ - Tester; Don't modify code blocks starting with this emoji"
   ]
  },
  {
   "cell_type": "code",
   "execution_count": null,
   "metadata": {},
   "outputs": [],
   "source": [
    "# 🦉 Usually, the first cell in a notebook, is where'd import all modules and third-party modules.\n",
    "# 🦉 Your Virtual Env need to have the request third party modules installed using a tool like, pip, or poetry, before you can import them.\n",
    "\n",
    "# 👨🏻‍💻 Use this Code block to import the modules you will need.\n",
    "import math\n"
   ]
  },
  {
   "cell_type": "markdown",
   "metadata": {},
   "source": [
    "## Part 1: Python Basics"
   ]
  },
  {
   "cell_type": "markdown",
   "metadata": {},
   "source": [
    "### Exercise - Demo\n",
    "Write a python function that takes 2 numbers `num1` and `num2` and returns the addition."
   ]
  },
  {
   "cell_type": "code",
   "execution_count": 3,
   "metadata": {},
   "outputs": [],
   "source": [
    "# 👨🏻‍💻 Fix the code below so it returns the correct output.\n",
    "def simple_add(num1, num2):\n",
    "    return num1 + num2"
   ]
  },
  {
   "cell_type": "code",
   "execution_count": 4,
   "metadata": {},
   "outputs": [
    {
     "name": "stdout",
     "output_type": "stream",
     "text": [
      "✅ worked correctly\n"
     ]
    }
   ],
   "source": [
    "# 🕵️ This code block checks your answer.\n",
    "try:  \n",
    "  assert simple_add(10,29) == 39, \"❌ Expected 10+29=39\"\n",
    "except AssertionError as e:\n",
    "  print(e)\n",
    "print(\"✅ worked correctly\")\n"
   ]
  },
  {
   "cell_type": "markdown",
   "metadata": {},
   "source": [
    "### Exercise\n",
    "Write a python function that takes a number `num` as a function argument and returns `even` or `odd`."
   ]
  },
  {
   "cell_type": "code",
   "execution_count": 25,
   "metadata": {},
   "outputs": [],
   "source": [
    "# 👨🏻‍💻 Fix the code below so it returns the correct output.\n",
    "def is_even_or_odd(num):\n",
    "    if num % 2 == 0:\n",
    "        return \"Even\"\n",
    "    else:\n",
    "        return \"Odd\"\n"
   ]
  },
  {
   "cell_type": "code",
   "execution_count": 26,
   "metadata": {},
   "outputs": [
    {
     "name": "stdout",
     "output_type": "stream",
     "text": [
      "❌ Expected 2 to be labelled even\n"
     ]
    }
   ],
   "source": [
    "# 🕵️ This code block checks your answer. \n",
    "try:\n",
    "  even_numbers = (2,4,6,8,10)\n",
    "  odd_numbers = (1,3,5,7,9)\n",
    "  for num in even_numbers:\n",
    "    assert is_even_or_odd(num) == \"even\", \"❌ Expected {} to be labelled even\".format(num)\n",
    "  for num in odd_numbers:\n",
    "    assert is_even_or_odd(num) == \"odd\", \"❌ Expected {} to be labelled odd\".format(num)\n",
    "except AssertionError as e:\n",
    "  print(e)\n",
    "else:\n",
    "  print(\"✅ worked correctly\")\n"
   ]
  },
  {
   "cell_type": "markdown",
   "metadata": {},
   "source": [
    "> 🚩 : To get into the habit of making frequent commits to git. Make a commit here"
   ]
  },
  {
   "cell_type": "markdown",
   "metadata": {},
   "source": [
    "### Exercise\n",
    "write a python function that, given a year,:\n",
    "- returns the boolean value `True` if the year is a leap year\n",
    "- returns the boolean value `False` if it's not a leap year\n",
    "\n",
    "Here's the criteria for a leap year:\n",
    "- If a year is evenly divisible by 4 means having no remainder, then go to the next step. If it is not divisible by 4, it is a common year.\n",
    "- If a year is divisible by 4 but not by 100, then it is a leap year. If a year is divisible by both 4 and 100, go to the next step.\n",
    "- If a year is divisible by 100 but not by 400, then it is a common year. If a year is divisible by both, then it is a leap year."
   ]
  },
  {
   "cell_type": "code",
   "execution_count": null,
   "metadata": {},
   "outputs": [],
   "source": [
    "# 👨🏻‍💻 Fix the code below so it returns the correct output.\n",
    "def is_leap_year(year):\n",
    "  return False"
   ]
  },
  {
   "cell_type": "code",
   "execution_count": null,
   "metadata": {},
   "outputs": [],
   "source": [
    "# 🕵️ This code block checks your answer. \n",
    "try:\n",
    "  leap_years = (2000, 2004, 2008, 2012, 2016, 2020, 2024, 2028, 2032, 2036, 2040, 2044, 2048)\n",
    "  not_leap_years = (2005, 2009, 2013, 2017, 2021, 2025, 2029, 2033, 2037, 2041, 2045, 2049)\n",
    "  for year in leap_years:\n",
    "    assert is_leap_year(year) == True, \"❌ Expected {} to be a leap year\".format(year)\n",
    "  for year in not_leap_years:\n",
    "    assert is_leap_year(year) == False, \"❌ Expected {} to be a not leap year\".format(year)\n",
    "except AssertionError as e:\n",
    "  print(e)\n",
    "else:\n",
    "  print(\"✅ worked correctly\")"
   ]
  },
  {
   "cell_type": "markdown",
   "metadata": {},
   "source": [
    "> 🚩 : Make a git commit here"
   ]
  },
  {
   "cell_type": "markdown",
   "metadata": {},
   "source": [
    "### Exercise\n",
    "write a python function to convert the temperature from Celsius to Fahrenheit\n",
    "$$ F^{\\circ}=C^{\\circ}\\times\\frac{9}{5}+32 $$"
   ]
  },
  {
   "cell_type": "code",
   "execution_count": null,
   "metadata": {},
   "outputs": [],
   "source": [
    "# 👨🏻‍💻 Fix the code below so it returns the correct output.\n",
    "def convert_celsius_to_fahrenheit(celsius):\n",
    "  return 0"
   ]
  },
  {
   "cell_type": "code",
   "execution_count": null,
   "metadata": {},
   "outputs": [],
   "source": [
    "# 🕵️ This code block checks your answer.\n",
    "try:\n",
    "  assert convert_celsius_to_fahrenheit(0) == 32, \"❌ Expected 0ºC to be 32ºF\"\n",
    "  assert convert_celsius_to_fahrenheit(10) == 50, \"❌ Expected 10ºC to be 50ºF\"\n",
    "  assert convert_celsius_to_fahrenheit(25) == 77, \"❌ Expected 25ºC to be 72ºF\"\n",
    "except AssertionError as e:\n",
    "  print(e)\n",
    "else:\n",
    "  print(\"✅ worked correctly\")\n"
   ]
  },
  {
   "cell_type": "markdown",
   "metadata": {},
   "source": [
    "> 🚩 : Make a git commit here"
   ]
  },
  {
   "cell_type": "markdown",
   "metadata": {},
   "source": [
    "### Exercise\n",
    "Write a python function that takes a `radius` as a function parameter, and returns `circumference` and `area` of a circle in that order and in the same return\n",
    "$$ Area = \\pi \\times radius^{2}  $$\n",
    "$$ Circumference = 2 \\pi \\times radius $$\n",
    "\n",
    "- **🦉: Use the `math` package to get the true value of PI `math.pi`**\n",
    "- **🦉: check out the [following on the course website](//it4063c.github.io/course-notes/refreshers/python#returning-multiple-values-in-the-same-function) for an example**\n",
    "- **🦉: You'll need to return `area` and `circumference` in that order**"
   ]
  },
  {
   "cell_type": "code",
   "execution_count": null,
   "metadata": {},
   "outputs": [],
   "source": [
    "# 👨🏻‍💻 Fix the code below so it returns the correct output.\n",
    "def get_area_and_circumference_of_circle(radius):\n",
    "  return 0, 0"
   ]
  },
  {
   "cell_type": "code",
   "execution_count": null,
   "metadata": {},
   "outputs": [],
   "source": [
    "# 🕵️ This code block checks your answer.\n",
    "try:\n",
    "  area2, circum2 = get_area_and_circumference_of_circle(1)\n",
    "  assert (\n",
    "    math.isclose(area2, 3.14, abs_tol=0.01) == True\n",
    "  ), \"❌ Expected area of circle of radius 1 to be 3.14 not {}\".format(area2)\n",
    "  assert (\n",
    "    math.isclose(circum2, 6.28, abs_tol=0.01) == True\n",
    "  ), \"❌ Expected circumference of circle of radius 1 to be 6.28 not {}\".format(\n",
    "    circum2\n",
    "  )\n",
    "\n",
    "  area3, circum3 = get_area_and_circumference_of_circle(3)\n",
    "  assert (\n",
    "    math.isclose(area3, 28.27, abs_tol=0.01) == True\n",
    "  ), \"❌ Expected area of circle of radius 3 to be 28.27 not {}\".format(area3)\n",
    "  assert (\n",
    "    math.isclose(circum3, 18.84, abs_tol=0.01) == True\n",
    "  ), \"❌ Expected circumference of circle of radius 3 to be 18.8 not {}\".format(\n",
    "    circum3\n",
    "  )\n",
    "\n",
    "except AssertionError as e:\n",
    "  print(e)\n",
    "else:\n",
    "  print(\"✅ worked correctly\")\n"
   ]
  },
  {
   "cell_type": "markdown",
   "metadata": {},
   "source": [
    "> 🚩 : Make a git commit here"
   ]
  },
  {
   "cell_type": "markdown",
   "metadata": {},
   "source": [
    "### Exercise\n",
    "Write a function that take `n` as an argument, and RETURNS (not prints) an array of the numbers from 1 to n (where n is a function parameter). \n",
    "- But for multiples of three (3) print “Fizz” instead of the number \n",
    "- and for the multiples of five (5) print “Buzz”. \n",
    "- and for numbers which are multiples of both three(3) and five(5) print “FizzBuzz”.\n",
    "\n",
    "🦉 For a reminder on how to loop over a range of numbers. Checkout the [course website's refresher on python](//it4063c.github.io/course-notes/refreshers/python#for-loops)"
   ]
  },
  {
   "cell_type": "code",
   "execution_count": null,
   "metadata": {},
   "outputs": [],
   "source": [
    "# 👨🏻‍💻 Fix the code below so it returns the correct output.\n",
    "def fizz_buzz(n):\n",
    "    result = []\n",
    "    \n",
    "    return result"
   ]
  },
  {
   "cell_type": "code",
   "execution_count": null,
   "metadata": {},
   "outputs": [],
   "source": [
    "# 🕵️ This code block checks your answer.\n",
    "try:\n",
    "    assert fizz_buzz(25) == [\n",
    "        1,\n",
    "        2,\n",
    "        \"Fizz\",\n",
    "        4,\n",
    "        \"Buzz\",\n",
    "        \"Fizz\",\n",
    "        7,\n",
    "        8,\n",
    "        \"Fizz\",\n",
    "        \"Buzz\",\n",
    "        11,\n",
    "        \"Fizz\",\n",
    "        13,\n",
    "        14,\n",
    "        \"FizzBuzz\",\n",
    "        16,\n",
    "        17,\n",
    "        \"Fizz\",\n",
    "        19,\n",
    "        \"Buzz\",\n",
    "        \"Fizz\",\n",
    "        22,\n",
    "        23,\n",
    "        \"Fizz\",\n",
    "    ]\n",
    "\n",
    "except AssertionError as e:\n",
    "    print(e)\n",
    "else: \n",
    "    print(\"✅ worked correctly\")\n",
    "\n"
   ]
  },
  {
   "cell_type": "markdown",
   "metadata": {},
   "source": [
    "> 🚩 : Make a git commit here"
   ]
  },
  {
   "cell_type": "markdown",
   "metadata": {},
   "source": [
    "## Part 2: Numpy\n",
    "🛑 Before you get started in this part, you need to make sure the library is imported \n",
    "\n",
    "(go back to the first cell and import `numpy` with `nb` as an alias)"
   ]
  },
  {
   "cell_type": "markdown",
   "metadata": {},
   "source": [
    "### Exercise\n",
    "In one line and (one line only), create a numpy array that contains a range of evenly spaced intervals. Starting with number 3, ending with the number 15, with an intervals of 3\n",
    "> Output should look like `array([ 3,  6,  9, 12])`\n",
    "\n",
    "📜 [Here's a link to the `numpy.arange` function](https://numpy.org/doc/stable/reference/generated/numpy.arange.html?highlight=arange#numpy.arange)"
   ]
  },
  {
   "cell_type": "code",
   "execution_count": null,
   "metadata": {},
   "outputs": [],
   "source": [
    "np."
   ]
  },
  {
   "cell_type": "markdown",
   "metadata": {},
   "source": [
    "> 🚩 : Make a git commit here"
   ]
  },
  {
   "cell_type": "markdown",
   "metadata": {},
   "source": [
    "### Exercise\n",
    "Given an array `some_array` of a certain shape, create another array of the same shape(size), where instead of the current value in the array, the string `IT4063C` would be there instead. For example For the array([1,2,3]), you would get an output of `array(['IT4063C' 'IT4063C' 'IT4063C'])`\n",
    "\n",
    "🦉 This can be solved by either using numpy.copy and numpy.fill together OR using numpy.full_like.\n",
    "\n",
    "**Docs**\n",
    "- 📜 numpy.copy function\n",
    "- 📜 numpy.fill function\n",
    "- 📜 numpy.full_like function"
   ]
  },
  {
   "cell_type": "code",
   "execution_count": null,
   "metadata": {},
   "outputs": [],
   "source": [
    "input_array = np.array([1,2,3,4,5])\n",
    "result = \n",
    "\n",
    "print(input_array.shape)\n",
    "print(result.shape)\n",
    "print(result)"
   ]
  },
  {
   "cell_type": "code",
   "execution_count": null,
   "metadata": {},
   "outputs": [],
   "source": [
    "# 🕵️ This code block checks your answer.\n",
    "# Test 1: Check if shapes are equal\n",
    "try:\n",
    "  assert input_array.shape == result.shape, \"❌ Expected input_array.shape to be {} but got {}\".format(input_array.shape, result.shape)\n",
    "except AssertionError as e:\n",
    "    print(e)\n",
    "else: \n",
    "  print(\"✅ Shapes are equal!\")\n",
    "\n",
    "# Test 2: Check if each element in 'result' is 'IT4063C'\n",
    "try:\n",
    "  assert all(item == 'IT4063C' for item in result), \"❌ Not all elements in 'result' are 'IT4063C'\"\n",
    "except AssertionError as e:\n",
    "    print(e)\n",
    "else: \n",
    "  print(\"✅ All elements in 'result' are 'IT4063C'!\")"
   ]
  },
  {
   "cell_type": "markdown",
   "metadata": {},
   "source": [
    "> 🚩 : Make a git commit here"
   ]
  },
  {
   "cell_type": "markdown",
   "metadata": {},
   "source": [
    "### Exercise\n",
    "To practice simple data transformation, work to concatenate 2 numpy arrays of strings. The arrays are of first names, and last names. The end results should be a single array concatenating the names into full names.\n",
    "\n",
    "🦉 I can't give you the answer directly. However, consider the following thought process.\n",
    "- What are the numpy functions that you can use?\n",
    "  - Check out the [Numpy Routines Documentation](https://numpy.org/doc/stable/reference/routines.html)\n",
    "- What's the difference between `numpy.concatenate` and `numpy.char.add`. and which one makes more sense to be used here?\n",
    "- you may find that a simple concatenation would look like this: array(['BobSmith' 'JaneJones' 'MalloryWilliams'])\n",
    "- Combine the previous exercises with this one, to make an array of empty spaces to be combined\n",
    "Also here are the documentation links to some `numpy` functions that, if pieced together, would solve the exercise.\n",
    "\n",
    "- 📜 [`numpy.concatenate` function](https://numpy.org/doc/stable/reference/generated/numpy.concatenate.html)\n",
    "- 📜 [`numpy.char.add` function](https://numpy.org/doc/stable/reference/generated/numpy.char.add.html)\n"
   ]
  },
  {
   "cell_type": "code",
   "execution_count": null,
   "metadata": {},
   "outputs": [],
   "source": [
    "def get_full_names(first_names, last_names):\n",
    "  return\n",
    "\n",
    "sample_first_names = np.array([\"Bob\", \"Jane\", \"Mallory\"])\n",
    "sample_last_names = np.array([\"Smith\", \"Jones\", \"Williams\"])\n",
    "full_names = get_full_names(sample_first_names, sample_last_names);\n",
    "print(full_names)"
   ]
  },
  {
   "cell_type": "markdown",
   "metadata": {},
   "source": [
    "> 🚩 : Make a git commit here"
   ]
  },
  {
   "cell_type": "code",
   "execution_count": null,
   "metadata": {},
   "outputs": [],
   "source": [
    "# 🕵️ This code block checks your answer.\n",
    "# Test 1: Basic functionality\n",
    "try:\n",
    "    sample_first_names = np.array([\"Bob\", \"Jane\", \"Mallory\"])\n",
    "    sample_last_names = np.array([\"Smith\", \"Jones\", \"Williams\"])\n",
    "    expected_output = np.array([\"Bob Smith\", \"Jane Jones\", \"Mallory Williams\"])\n",
    "    output = get_full_names(sample_first_names, sample_last_names)\n",
    "\n",
    "    assert np.array_equal(output, expected_output), f\"Expected {expected_output}, but got {output}\"\n",
    "    \n",
    "except AssertionError as e:\n",
    "    print(f\"Test 1 Failed: {e}\")\n",
    "else:\n",
    "    print(\"Test 1 Passed!\")\n",
    "\n",
    "# Test 2: Empty strings or arrays\n",
    "try:\n",
    "    empty_first_names = np.array([\"\", \"Jane\", \"\"])\n",
    "    empty_last_names = np.array([\"Smith\", \"\", \"Williams\"])\n",
    "    expected_empty_output = np.array([\" Smith\", \"Jane \", \" Williams\"])\n",
    "    empty_output = get_full_names(empty_first_names, empty_last_names)\n",
    "\n",
    "    assert np.array_equal(empty_output, expected_empty_output), f\"Expected {expected_empty_output}, but got {empty_output}\"\n",
    "\n",
    "except AssertionError as e:\n",
    "    print(f\"Test 2 Failed: {e}\")\n",
    "else:\n",
    "    print(\"✅ Test 2 Passed!\")"
   ]
  },
  {
   "cell_type": "markdown",
   "metadata": {},
   "source": [
    "### 🌟 Exercise (Extra Credit 2pts)\n",
    "If the first_names and last_names are of unequal length, the function should raise a Value Error exception with a proper error message.\n",
    "\n",
    "You can apply the changes to the previous cell, all tests should still pass normally"
   ]
  },
  {
   "cell_type": "code",
   "execution_count": null,
   "metadata": {},
   "outputs": [],
   "source": [
    "# 🕵️ This code block checks your answer.\n",
    "# Test 3: For Extra Credit - Arrays of unequal lengths (This should raise an error)\n",
    "try:\n",
    "    unequal_first_names = np.array([\"Bob\"])\n",
    "    unequal_last_names = np.array([\"Smith\", \"Jones\"])\n",
    "    unequal_output = get_full_names(unequal_first_names, unequal_last_names)\n",
    "    \n",
    "except ValueError:\n",
    "    print(\"✅ Test 3 Passed! ValueError raised as expected.\")\n",
    "except AssertionError as e:\n",
    "    print(f\"Test 3 Failed: {e}\")\n",
    "except Exception as e:\n",
    "    print(f\"Test 3 Failed. Expected ValueError but got {type(e).__name__}: {e}\")\n",
    "else:\n",
    "    print(\"Test 3 Failed. No error was raised.\")"
   ]
  },
  {
   "cell_type": "markdown",
   "metadata": {},
   "source": [
    "> 🚩 : Make a git commit here"
   ]
  },
  {
   "cell_type": "markdown",
   "metadata": {},
   "source": [
    "## Wrap up\n",
    "Remember to update the self reflection and self evaluations on the `README` file.\n"
   ]
  },
  {
   "cell_type": "code",
   "execution_count": 1,
   "metadata": {},
   "outputs": [
    {
     "name": "stdout",
     "output_type": "stream",
     "text": [
      "[NbConvertApp] Converting notebook python-exercises.ipynb to python\n",
      "[NbConvertApp] Writing 12703 bytes to python-exercises.py\n"
     ]
    }
   ],
   "source": [
    "# 🦉: The following command converts this Jupyter notebook to a Python script.\n",
    "!jupyter nbconvert --to python python-exercises.ipynb"
   ]
  }
 ],
 "metadata": {
  "kernelspec": {
   "display_name": "Python 3",
   "language": "python",
   "name": "python3"
  },
  "language_info": {
   "codemirror_mode": {
    "name": "ipython",
    "version": 3
   },
   "file_extension": ".py",
   "mimetype": "text/x-python",
   "name": "python",
   "nbconvert_exporter": "python",
   "pygments_lexer": "ipython3",
   "version": "3.12.0"
  },
  "orig_nbformat": 4
 },
 "nbformat": 4,
 "nbformat_minor": 2
}
